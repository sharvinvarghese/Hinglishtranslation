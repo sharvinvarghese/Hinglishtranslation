{
 "cells": [
  {
   "cell_type": "code",
   "execution_count": 1,
   "id": "9f8c8431",
   "metadata": {},
   "outputs": [
    {
     "name": "stdout",
     "output_type": "stream",
     "text": [
      "Requirement already satisfied: transformers in c:\\users\\vargh\\anaconda3\\lib\\site-packages (4.34.0)\n",
      "Requirement already satisfied: torch in c:\\users\\vargh\\anaconda3\\lib\\site-packages (2.0.1)\n",
      "Requirement already satisfied: pandas in c:\\users\\vargh\\anaconda3\\lib\\site-packages (1.2.4)\n",
      "Requirement already satisfied: numpy in c:\\users\\vargh\\anaconda3\\lib\\site-packages (1.20.1)\n",
      "Requirement already satisfied: matplotlib in c:\\users\\vargh\\anaconda3\\lib\\site-packages (3.3.4)\n",
      "Requirement already satisfied: notebook in c:\\users\\vargh\\anaconda3\\lib\\site-packages (6.3.0)\n",
      "Requirement already satisfied: sentencepiece in c:\\users\\vargh\\anaconda3\\lib\\site-packages (0.1.99)\n",
      "Requirement already satisfied: sacremoses in c:\\users\\vargh\\anaconda3\\lib\\site-packages (0.0.53)\n",
      "Requirement already satisfied: kiwisolver>=1.0.1 in c:\\users\\vargh\\anaconda3\\lib\\site-packages (from matplotlib) (1.3.1)\n",
      "Requirement already satisfied: cycler>=0.10 in c:\\users\\vargh\\anaconda3\\lib\\site-packages (from matplotlib) (0.10.0)\n",
      "Requirement already satisfied: python-dateutil>=2.1 in c:\\users\\vargh\\anaconda3\\lib\\site-packages (from matplotlib) (2.8.1)\n",
      "Requirement already satisfied: pillow>=6.2.0 in c:\\users\\vargh\\anaconda3\\lib\\site-packages (from matplotlib) (8.2.0)\n",
      "Requirement already satisfied: pyparsing!=2.0.4,!=2.1.2,!=2.1.6,>=2.0.3 in c:\\users\\vargh\\anaconda3\\lib\\site-packages (from matplotlib) (2.4.7)\n",
      "Requirement already satisfied: six in c:\\users\\vargh\\anaconda3\\lib\\site-packages (from cycler>=0.10->matplotlib) (1.15.0)\n",
      "Requirement already satisfied: jupyter-core>=4.6.1 in c:\\users\\vargh\\anaconda3\\lib\\site-packages (from notebook) (4.7.1)\n",
      "Requirement already satisfied: argon2-cffi in c:\\users\\vargh\\anaconda3\\lib\\site-packages (from notebook) (20.1.0)\n",
      "Requirement already satisfied: terminado>=0.8.3 in c:\\users\\vargh\\anaconda3\\lib\\site-packages (from notebook) (0.9.4)\n",
      "Requirement already satisfied: nbconvert in c:\\users\\vargh\\anaconda3\\lib\\site-packages (from notebook) (6.0.7)\n",
      "Requirement already satisfied: jupyter-client>=5.3.4 in c:\\users\\vargh\\anaconda3\\lib\\site-packages (from notebook) (6.1.12)\n",
      "Requirement already satisfied: ipykernel in c:\\users\\vargh\\anaconda3\\lib\\site-packages (from notebook) (5.3.4)\n",
      "Requirement already satisfied: jinja2 in c:\\users\\vargh\\anaconda3\\lib\\site-packages (from notebook) (2.11.3)\n",
      "Requirement already satisfied: prometheus-client in c:\\users\\vargh\\anaconda3\\lib\\site-packages (from notebook) (0.10.1)\n",
      "Requirement already satisfied: traitlets>=4.2.1 in c:\\users\\vargh\\anaconda3\\lib\\site-packages (from notebook) (5.0.5)\n",
      "Requirement already satisfied: tornado>=6.1 in c:\\users\\vargh\\anaconda3\\lib\\site-packages (from notebook) (6.1)\n",
      "Requirement already satisfied: Send2Trash>=1.5.0 in c:\\users\\vargh\\anaconda3\\lib\\site-packages (from notebook) (1.5.0)\n",
      "Requirement already satisfied: ipython-genutils in c:\\users\\vargh\\anaconda3\\lib\\site-packages (from notebook) (0.2.0)\n",
      "Requirement already satisfied: pyzmq>=17 in c:\\users\\vargh\\anaconda3\\lib\\site-packages (from notebook) (20.0.0)\n",
      "Requirement already satisfied: nbformat in c:\\users\\vargh\\anaconda3\\lib\\site-packages (from notebook) (5.1.3)\n",
      "Requirement already satisfied: pywin32>=1.0 in c:\\users\\vargh\\anaconda3\\lib\\site-packages (from jupyter-core>=4.6.1->notebook) (227)\n",
      "Requirement already satisfied: pywinpty>=0.5 in c:\\users\\vargh\\anaconda3\\lib\\site-packages (from terminado>=0.8.3->notebook) (0.5.7)\n",
      "Requirement already satisfied: pytz>=2017.3 in c:\\users\\vargh\\anaconda3\\lib\\site-packages (from pandas) (2021.1)\n",
      "Requirement already satisfied: tqdm in c:\\users\\vargh\\anaconda3\\lib\\site-packages (from sacremoses) (4.59.0)\n",
      "Requirement already satisfied: click in c:\\users\\vargh\\anaconda3\\lib\\site-packages (from sacremoses) (7.1.2)\n",
      "Requirement already satisfied: joblib in c:\\users\\vargh\\anaconda3\\lib\\site-packages (from sacremoses) (1.0.1)\n",
      "Requirement already satisfied: regex in c:\\users\\vargh\\anaconda3\\lib\\site-packages (from sacremoses) (2021.4.4)\n",
      "Requirement already satisfied: filelock in c:\\users\\vargh\\anaconda3\\lib\\site-packages (from torch) (3.0.12)\n",
      "Requirement already satisfied: sympy in c:\\users\\vargh\\anaconda3\\lib\\site-packages (from torch) (1.8)\n",
      "Requirement already satisfied: networkx in c:\\users\\vargh\\anaconda3\\lib\\site-packages (from torch) (2.5)\n",
      "Requirement already satisfied: typing-extensions in c:\\users\\vargh\\anaconda3\\lib\\site-packages (from torch) (3.7.4.3)\n",
      "Requirement already satisfied: pyyaml>=5.1 in c:\\users\\vargh\\anaconda3\\lib\\site-packages (from transformers) (5.4.1)\n",
      "Requirement already satisfied: requests in c:\\users\\vargh\\anaconda3\\lib\\site-packages (from transformers) (2.25.1)\n",
      "Requirement already satisfied: tokenizers<0.15,>=0.14 in c:\\users\\vargh\\anaconda3\\lib\\site-packages (from transformers) (0.14.0)\n",
      "Requirement already satisfied: safetensors>=0.3.1 in c:\\users\\vargh\\anaconda3\\lib\\site-packages (from transformers) (0.3.3)\n",
      "Requirement already satisfied: packaging>=20.0 in c:\\users\\vargh\\anaconda3\\lib\\site-packages (from transformers) (20.9)\n",
      "Requirement already satisfied: huggingface-hub<1.0,>=0.16.4 in c:\\users\\vargh\\anaconda3\\lib\\site-packages (from transformers) (0.16.4)\n",
      "Requirement already satisfied: fsspec in c:\\users\\vargh\\anaconda3\\lib\\site-packages (from huggingface-hub<1.0,>=0.16.4->transformers) (0.9.0)\n",
      "Requirement already satisfied: cffi>=1.0.0 in c:\\users\\vargh\\anaconda3\\lib\\site-packages (from argon2-cffi->notebook) (1.14.5)\n",
      "Requirement already satisfied: pycparser in c:\\users\\vargh\\anaconda3\\lib\\site-packages (from cffi>=1.0.0->argon2-cffi->notebook) (2.20)\n",
      "Requirement already satisfied: ipython>=5.0.0 in c:\\users\\vargh\\anaconda3\\lib\\site-packages (from ipykernel->notebook) (7.22.0)\n",
      "Requirement already satisfied: jedi>=0.16 in c:\\users\\vargh\\anaconda3\\lib\\site-packages (from ipython>=5.0.0->ipykernel->notebook) (0.17.2)\n",
      "Requirement already satisfied: decorator in c:\\users\\vargh\\anaconda3\\lib\\site-packages (from ipython>=5.0.0->ipykernel->notebook) (5.0.6)\n",
      "Requirement already satisfied: pygments in c:\\users\\vargh\\anaconda3\\lib\\site-packages (from ipython>=5.0.0->ipykernel->notebook) (2.8.1)\n",
      "Requirement already satisfied: colorama in c:\\users\\vargh\\anaconda3\\lib\\site-packages (from ipython>=5.0.0->ipykernel->notebook) (0.4.4)\n",
      "Requirement already satisfied: pickleshare in c:\\users\\vargh\\anaconda3\\lib\\site-packages (from ipython>=5.0.0->ipykernel->notebook) (0.7.5)\n",
      "Requirement already satisfied: setuptools>=18.5 in c:\\users\\vargh\\anaconda3\\lib\\site-packages (from ipython>=5.0.0->ipykernel->notebook) (52.0.0.post20210125)\n",
      "Requirement already satisfied: prompt-toolkit!=3.0.0,!=3.0.1,<3.1.0,>=2.0.0 in c:\\users\\vargh\\anaconda3\\lib\\site-packages (from ipython>=5.0.0->ipykernel->notebook) (3.0.17)\n",
      "Requirement already satisfied: backcall in c:\\users\\vargh\\anaconda3\\lib\\site-packages (from ipython>=5.0.0->ipykernel->notebook) (0.2.0)\n",
      "Requirement already satisfied: parso<0.8.0,>=0.7.0 in c:\\users\\vargh\\anaconda3\\lib\\site-packages (from jedi>=0.16->ipython>=5.0.0->ipykernel->notebook) (0.7.0)\n",
      "Requirement already satisfied: wcwidth in c:\\users\\vargh\\anaconda3\\lib\\site-packages (from prompt-toolkit!=3.0.0,!=3.0.1,<3.1.0,>=2.0.0->ipython>=5.0.0->ipykernel->notebook) (0.2.5)\n",
      "Requirement already satisfied: MarkupSafe>=0.23 in c:\\users\\vargh\\anaconda3\\lib\\site-packages (from jinja2->notebook) (1.1.1)\n",
      "Requirement already satisfied: bleach in c:\\users\\vargh\\anaconda3\\lib\\site-packages (from nbconvert->notebook) (3.3.0)\n",
      "Requirement already satisfied: nbclient<0.6.0,>=0.5.0 in c:\\users\\vargh\\anaconda3\\lib\\site-packages (from nbconvert->notebook) (0.5.3)\n",
      "Requirement already satisfied: pandocfilters>=1.4.1 in c:\\users\\vargh\\anaconda3\\lib\\site-packages (from nbconvert->notebook) (1.4.3)\n",
      "Requirement already satisfied: jupyterlab-pygments in c:\\users\\vargh\\anaconda3\\lib\\site-packages (from nbconvert->notebook) (0.1.2)\n",
      "Requirement already satisfied: defusedxml in c:\\users\\vargh\\anaconda3\\lib\\site-packages (from nbconvert->notebook) (0.7.1)\n",
      "Requirement already satisfied: testpath in c:\\users\\vargh\\anaconda3\\lib\\site-packages (from nbconvert->notebook) (0.4.4)\n",
      "Requirement already satisfied: mistune<2,>=0.8.1 in c:\\users\\vargh\\anaconda3\\lib\\site-packages (from nbconvert->notebook) (0.8.4)\n",
      "Requirement already satisfied: entrypoints>=0.2.2 in c:\\users\\vargh\\anaconda3\\lib\\site-packages (from nbconvert->notebook) (0.3)\n",
      "Requirement already satisfied: nest-asyncio in c:\\users\\vargh\\anaconda3\\lib\\site-packages (from nbclient<0.6.0,>=0.5.0->nbconvert->notebook) (1.5.1)\n",
      "Requirement already satisfied: async-generator in c:\\users\\vargh\\anaconda3\\lib\\site-packages (from nbclient<0.6.0,>=0.5.0->nbconvert->notebook) (1.10)\n",
      "Requirement already satisfied: jsonschema!=2.5.0,>=2.4 in c:\\users\\vargh\\anaconda3\\lib\\site-packages (from nbformat->notebook) (3.2.0)\n",
      "Requirement already satisfied: attrs>=17.4.0 in c:\\users\\vargh\\anaconda3\\lib\\site-packages (from jsonschema!=2.5.0,>=2.4->nbformat->notebook) (20.3.0)\n",
      "Requirement already satisfied: pyrsistent>=0.14.0 in c:\\users\\vargh\\anaconda3\\lib\\site-packages (from jsonschema!=2.5.0,>=2.4->nbformat->notebook) (0.17.3)\n",
      "Requirement already satisfied: webencodings in c:\\users\\vargh\\anaconda3\\lib\\site-packages (from bleach->nbconvert->notebook) (0.5.1)\n",
      "Requirement already satisfied: chardet<5,>=3.0.2 in c:\\users\\vargh\\anaconda3\\lib\\site-packages (from requests->transformers) (4.0.0)\n",
      "Requirement already satisfied: certifi>=2017.4.17 in c:\\users\\vargh\\anaconda3\\lib\\site-packages (from requests->transformers) (2020.12.5)\n",
      "Requirement already satisfied: idna<3,>=2.5 in c:\\users\\vargh\\anaconda3\\lib\\site-packages (from requests->transformers) (2.10)\n",
      "Requirement already satisfied: urllib3<1.27,>=1.21.1 in c:\\users\\vargh\\anaconda3\\lib\\site-packages (from requests->transformers) (1.26.4)\n",
      "Requirement already satisfied: mpmath>=0.19 in c:\\users\\vargh\\anaconda3\\lib\\site-packages (from sympy->torch) (1.2.1)\n",
      "Note: you may need to restart the kernel to use updated packages.\n"
     ]
    }
   ],
   "source": [
    "pip install transformers torch pandas numpy matplotlib notebook sentencepiece sacremoses"
   ]
  },
  {
   "cell_type": "code",
   "execution_count": 2,
   "id": "6883312d",
   "metadata": {},
   "outputs": [],
   "source": [
    "from transformers import MarianMTModel, MarianTokenizer\n",
    "import torch\n"
   ]
  },
  {
   "cell_type": "code",
   "execution_count": 3,
   "id": "a87299de",
   "metadata": {},
   "outputs": [],
   "source": [
    "en_hi_model_name = \"Helsinki-NLP/opus-mt-en-hi\"\n",
    "en_hi_tokenizer = MarianTokenizer.from_pretrained(en_hi_model_name)\n",
    "en_hi_model = MarianMTModel.from_pretrained(en_hi_model_name)\n"
   ]
  },
  {
   "cell_type": "code",
   "execution_count": 4,
   "id": "e6edfe81",
   "metadata": {},
   "outputs": [],
   "source": [
    "def translate_en_to_hi(text):\n",
    "    inputs = en_hi_tokenizer(text, return_tensors=\"pt\")\n",
    "    translated = en_hi_model.generate(**inputs)\n",
    "    return en_hi_tokenizer.batch_decode(translated, skip_special_tokens=True)[0]\n"
   ]
  },
  {
   "cell_type": "code",
   "execution_count": 7,
   "id": "42c6e92a",
   "metadata": {},
   "outputs": [
    {
     "name": "stdout",
     "output_type": "stream",
     "text": [
      "1.डीडीएस टिप्पणी खण्ड में आपकी फ़ीडबैक को वास्तव में साझा करें\n"
     ]
    }
   ],
   "source": [
    "english_text = \"1.Definitely share your feedback in the comment section \"\n",
    "hindi_translation = translate_en_to_hi(english_text)\n",
    "print(hindi_translation)\n"
   ]
  },
  {
   "cell_type": "code",
   "execution_count": 8,
   "id": "58583b43",
   "metadata": {},
   "outputs": [
    {
     "name": "stdout",
     "output_type": "stream",
     "text": [
      "2 अगर यह एक बड़ा वीडियो है, तो भी मैं स्पष्ट रूप से सभी उत्पादों का उल्लेख करेंगे।\n"
     ]
    }
   ],
   "source": [
    "english_text = \"2. So even if it's a big video, I will clearly mention all the products.\"\n",
    "hindi_translation = translate_en_to_hi(english_text)\n",
    "print(hindi_translation)\n"
   ]
  },
  {
   "cell_type": "code",
   "execution_count": 9,
   "id": "33602533",
   "metadata": {},
   "outputs": [
    {
     "name": "stdout",
     "output_type": "stream",
     "text": [
      "3 मैं अपने बैग के लिए इंतजार कर रहा था.\n"
     ]
    }
   ],
   "source": [
    "english_text = \"3. I was waiting for my bag.\"\n",
    "hindi_translation = translate_en_to_hi(english_text)\n",
    "print(hindi_translation)\n"
   ]
  },
  {
   "cell_type": "code",
   "execution_count": null,
   "id": "dd697e3d",
   "metadata": {},
   "outputs": [],
   "source": []
  }
 ],
 "metadata": {
  "kernelspec": {
   "display_name": "Python 3",
   "language": "python",
   "name": "python3"
  },
  "language_info": {
   "codemirror_mode": {
    "name": "ipython",
    "version": 3
   },
   "file_extension": ".py",
   "mimetype": "text/x-python",
   "name": "python",
   "nbconvert_exporter": "python",
   "pygments_lexer": "ipython3",
   "version": "3.8.8"
  }
 },
 "nbformat": 4,
 "nbformat_minor": 5
}
